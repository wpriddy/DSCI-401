{
  "nbformat": 4,
  "nbformat_minor": 0,
  "metadata": {
    "colab": {
      "name": "Priddy_Assignment_1.ipynb",
      "version": "0.3.2",
      "provenance": []
    },
    "kernelspec": {
      "name": "python3",
      "display_name": "Python 3"
    }
  },
  "cells": [
    {
      "metadata": {
        "id": "GdLROHxDl3fK",
        "colab_type": "text"
      },
      "cell_type": "markdown",
      "source": [
        "**Flatten a list:**\n",
        " This will take a lists of lists and convert them to one list"
      ]
    },
    {
      "metadata": {
        "id": "h0O2jkQ8ycx3",
        "colab_type": "text"
      },
      "cell_type": "markdown",
      "source": [
        "I was unable to get the function to work on its own. However it appends the empty list and you can print it from there. "
      ]
    },
    {
      "metadata": {
        "id": "Enetlu5Ml0ZV",
        "colab_type": "code",
        "colab": {}
      },
      "cell_type": "code",
      "source": [
        "#lst = [1, 2, [3, 4, [5, 6]], 7, 8, [9, [10]]]  \n",
        "flattened = [] \n",
        "\n",
        "def flatten(lst): \n",
        "    for i in lst: \n",
        "        if type(i) == list: \n",
        "            flatten(i) \n",
        "        else: \n",
        "            flattened.append(i) \n",
        "\n",
        "flatten(lst) \n",
        "#print (flattened) "
      ],
      "execution_count": 0,
      "outputs": []
    },
    {
      "metadata": {
        "id": "sTakRUDwl4k4",
        "colab_type": "text"
      },
      "cell_type": "markdown",
      "source": [
        "**Powerset: ** This will return a power set of a list"
      ]
    },
    {
      "metadata": {
        "id": "vTHvehMml3LD",
        "colab_type": "code",
        "colab": {}
      },
      "cell_type": "code",
      "source": [
        "def powerset(s):\n",
        "    result = [[]]\n",
        "    for x in s:\n",
        "        result.extend([i + [x] for i in result])\n",
        "    return result\n",
        "\n"
      ],
      "execution_count": 0,
      "outputs": []
    },
    {
      "metadata": {
        "id": "iBRtBqdhl45X",
        "colab_type": "text"
      },
      "cell_type": "markdown",
      "source": [
        "**Permutation:**  Gives all possible combinations of a list"
      ]
    },
    {
      "metadata": {
        "id": "LMMVCiIGl37C",
        "colab_type": "code",
        "colab": {}
      },
      "cell_type": "code",
      "source": [
        "def permutation(x):\n",
        "    lst=[]\n",
        "    if len(x) <= 1:\n",
        "        return [x]\n",
        "    for z in set(x):\n",
        "        y = x.copy()\n",
        "        y.remove(z)\n",
        "        lst += [[z] + i for i in permutation(y)]\n",
        "    return lst\n"
      ],
      "execution_count": 0,
      "outputs": []
    },
    {
      "metadata": {
        "id": "OrP7oykil5e-",
        "colab_type": "text"
      },
      "cell_type": "markdown",
      "source": [
        "**Spiral Attempt** I was able to get the reversed list. Was unsure how to make a spiral"
      ]
    },
    {
      "metadata": {
        "id": "TAc5KvDXl2Xw",
        "colab_type": "code",
        "colab": {}
      },
      "cell_type": "code",
      "source": [
        "def spiral(x):\n",
        "    g= []\n",
        "    z = (x**2)\n",
        "    for i in reversed(range(z)):\n",
        "        if i == 0:\n",
        "            break\n",
        "        g.append(i)\n",
        "    return g\n"
      ],
      "execution_count": 0,
      "outputs": []
    }
  ]
}