{
  "nbformat": 4,
  "nbformat_minor": 0,
  "metadata": {
    "colab": {
      "name": "DSCI_FINAL.ipynb",
      "version": "0.3.2",
      "provenance": []
    },
    "kernelspec": {
      "name": "python3",
      "display_name": "Python 3"
    }
  },
  "cells": [
    {
      "metadata": {
        "id": "V4oQRQWDmNcy",
        "colab_type": "code",
        "colab": {}
      },
      "cell_type": "code",
      "source": [
        "import pandas as pd\n",
        "from sklearn import preprocessing\n",
        "from sklearn import linear_model \n",
        "import statsmodels.api as sm\n",
        "from sklearn.model_selection import train_test_split\n",
        "from sklearn.metrics import r2_score\n",
        "from sklearn.metrics import mean_squared_error as MSE\n",
        "from sklearn.metrics import explained_variance_score as EVS"
      ],
      "execution_count": 0,
      "outputs": []
    },
    {
      "metadata": {
        "id": "UUUw4whkmegK",
        "colab_type": "text"
      },
      "cell_type": "markdown",
      "source": [
        "**Imports data and drops outliers**"
      ]
    },
    {
      "metadata": {
        "id": "QdVuAqPcmetp",
        "colab_type": "code",
        "colab": {}
      },
      "cell_type": "code",
      "source": [
        "d = pd.read_csv('masterlist.csv')\n",
        "d= d.drop(['country-year', ' gdp_for_year ($) ', 'suicides/100k pop'], axis=1)\n",
        "\n",
        "d = d[d['suicides_no'] < 10000]\n",
        "d = d[d['gdp_per_capita ($)'] < 100000]\n"
      ],
      "execution_count": 0,
      "outputs": []
    },
    {
      "metadata": {
        "id": "54elp4plmqkR",
        "colab_type": "text"
      },
      "cell_type": "markdown",
      "source": [
        "**Finds categorical features**"
      ]
    },
    {
      "metadata": {
        "id": "u9ihZUiZmwyW",
        "colab_type": "code",
        "colab": {}
      },
      "cell_type": "code",
      "source": [
        "def cat_features(dataframe):\n",
        "    td = pd.DataFrame({'a':[1,2,3], 'b':[1.0, 2.0, 3.0]})\n",
        "    return filter(lambda x: not(dataframe[x].dtype in [td['a'].dtype, td['b'].dtype]), list(dataframe))\n",
        "\n",
        "C = list(cat_features(d))"
      ],
      "execution_count": 0,
      "outputs": []
    },
    {
      "metadata": {
        "id": "uYu4D3-7m0-u",
        "colab_type": "text"
      },
      "cell_type": "markdown",
      "source": [
        "**One-Hot Encodes and splits X and Y data**"
      ]
    },
    {
      "metadata": {
        "id": "IrTsKQWhm7uV",
        "colab_type": "code",
        "colab": {}
      },
      "cell_type": "code",
      "source": [
        "df = pd.get_dummies(d, columns=['country', 'generation','age', 'sex'], drop_first=True)\n",
        "df_x = df.loc[:, df.columns != 'suicides_no']\n",
        "df_y = df['suicides_no']\n"
      ],
      "execution_count": 0,
      "outputs": []
    },
    {
      "metadata": {
        "id": "9eBtUIrqnAAB",
        "colab_type": "text"
      },
      "cell_type": "markdown",
      "source": [
        "**Creates Regression Model**"
      ]
    },
    {
      "metadata": {
        "id": "fWdJ64NnnErO",
        "colab_type": "code",
        "colab": {}
      },
      "cell_type": "code",
      "source": [
        "model = linear_model.LinearRegression()\n",
        "x_train, x_test, y_train, y_test = train_test_split(df_x, df_y, test_size = 0.2, random_state = 4)\n"
      ],
      "execution_count": 0,
      "outputs": []
    },
    {
      "metadata": {
        "id": "y1NGarTRnJGi",
        "colab_type": "text"
      },
      "cell_type": "markdown",
      "source": [
        "**Preprocesses and Imputes Missing Data and Scales it**"
      ]
    },
    {
      "metadata": {
        "id": "Gepbit5VnQuq",
        "colab_type": "code",
        "colab": {
          "base_uri": "https://localhost:8080/",
          "height": 70
        },
        "outputId": "eb88d1fc-fd41-41e1-d0ca-cb1366b14e97"
      },
      "cell_type": "code",
      "source": [
        "imp = preprocessing.Imputer(missing_values = 'NaN', strategy = 'mean', axis=0)\n",
        "scaler = preprocessing.MinMaxScaler()\n",
        "df_x1 = imp.fit_transform(df_x)\n",
        "df_x1 = scaler.fit_transform(df_x1)\n",
        "train_x_pp = imp.fit_transform(x_train)\n",
        "train_x_pp = scaler.fit_transform(train_x_pp)\n",
        "\n",
        "test_x_pp = imp.transform(x_test)\n",
        "test_x_pp = scaler.transform(test_x_pp)"
      ],
      "execution_count": 6,
      "outputs": [
        {
          "output_type": "stream",
          "text": [
            "/usr/local/lib/python3.6/dist-packages/sklearn/utils/deprecation.py:58: DeprecationWarning: Class Imputer is deprecated; Imputer was deprecated in version 0.20 and will be removed in 0.22. Import impute.SimpleImputer from sklearn instead.\n",
            "  warnings.warn(msg, category=DeprecationWarning)\n"
          ],
          "name": "stderr"
        }
      ]
    },
    {
      "metadata": {
        "id": "flwR2hManTNE",
        "colab_type": "text"
      },
      "cell_type": "markdown",
      "source": [
        "**Fits and Predicts Model**"
      ]
    },
    {
      "metadata": {
        "id": "_rC2yBh-nVo6",
        "colab_type": "code",
        "colab": {}
      },
      "cell_type": "code",
      "source": [
        "model.fit(train_x_pp, y_train)\n",
        "predict = model.predict(test_x_pp)"
      ],
      "execution_count": 0,
      "outputs": []
    },
    {
      "metadata": {
        "id": "MYwELeignZij",
        "colab_type": "text"
      },
      "cell_type": "markdown",
      "source": [
        "**Shows Error Metrics**"
      ]
    },
    {
      "metadata": {
        "id": "HM0vETMDndr0",
        "colab_type": "code",
        "colab": {
          "base_uri": "https://localhost:8080/",
          "height": 66
        },
        "outputId": "28412f83-0c5e-4e80-9921-a258648af754"
      },
      "cell_type": "code",
      "source": [
        "print('R2 Base: ' + str(r2_score(y_test, predict)))\n",
        "print('Mean Squared Error: ' + str(MSE(y_test, predict)))\n",
        "print('Explained Variance Score: ' + str(EVS(y_test, predict)))\n"
      ],
      "execution_count": 8,
      "outputs": [
        {
          "output_type": "stream",
          "text": [
            "R2 Base: 0.5813491911500984\n",
            "Mean Squared Error: 173822.11194707625\n",
            "Explained Variance Score: 0.5816333805522629\n"
          ],
          "name": "stdout"
        }
      ]
    },
    {
      "metadata": {
        "id": "8jlLFhK1ng61",
        "colab_type": "text"
      },
      "cell_type": "markdown",
      "source": [
        "**Gets Model Coefficients**"
      ]
    },
    {
      "metadata": {
        "id": "8znJszLFn1wn",
        "colab_type": "code",
        "colab": {
          "base_uri": "https://localhost:8080/",
          "height": 2333
        },
        "outputId": "599c40e6-fb89-4997-d420-1553fdd36d59"
      },
      "cell_type": "code",
      "source": [
        "coef = model.coef_\n",
        "\n",
        "x2 = sm.add_constant(test_x_pp)\n",
        "est = sm.OLS(y_test, x2)\n",
        "est2 = est.fit()\n",
        "print(est2.summary())"
      ],
      "execution_count": 9,
      "outputs": [
        {
          "output_type": "stream",
          "text": [
            "                            OLS Regression Results                            \n",
            "==============================================================================\n",
            "Dep. Variable:            suicides_no   R-squared:                       0.597\n",
            "Model:                            OLS   Adj. R-squared:                  0.589\n",
            "Method:                 Least Squares   F-statistic:                     69.77\n",
            "Date:                Wed, 01 May 2019   Prob (F-statistic):               0.00\n",
            "Time:                        18:21:37   Log-Likelihood:                -41041.\n",
            "No. Observations:                5522   AIC:                         8.231e+04\n",
            "Df Residuals:                    5406   BIC:                         8.308e+04\n",
            "Df Model:                         115                                         \n",
            "Covariance Type:            nonrobust                                         \n",
            "==============================================================================\n",
            "                 coef    std err          t      P>|t|      [0.025      0.975]\n",
            "------------------------------------------------------------------------------\n",
            "const       -148.5511     74.365     -1.998      0.046    -294.337      -2.765\n",
            "x1             3.3072     45.708      0.072      0.942     -86.299      92.913\n",
            "x2          4534.4721    151.235     29.983      0.000    4237.991    4830.953\n",
            "x3           -61.1347     62.021     -0.986      0.324    -182.721      60.452\n",
            "x4             1.4316     87.961      0.016      0.987    -171.007     173.870\n",
            "x5            27.2055     75.224      0.362      0.718    -120.263     174.674\n",
            "x6           -45.4091     76.623     -0.593      0.553    -195.620     104.802\n",
            "x7             1.5285     76.692      0.020      0.984    -148.819     151.876\n",
            "x8            39.9789     98.831      0.405      0.686    -153.770     233.728\n",
            "x9            66.5195     80.739      0.824      0.410     -91.762     224.801\n",
            "x10           88.2086     81.923      1.077      0.282     -72.393     248.810\n",
            "x11          -30.9857     87.953     -0.352      0.725    -203.409     141.438\n",
            "x12           21.1035     86.340      0.244      0.807    -148.157     190.364\n",
            "x13           11.6592     81.329      0.143      0.886    -147.778     171.096\n",
            "x14           34.4505     80.548      0.428      0.669    -123.455     192.357\n",
            "x15          199.4714     82.745      2.411      0.016      37.258     361.685\n",
            "x16          121.0182     79.718      1.518      0.129     -35.261     277.298\n",
            "x17           18.9768     74.871      0.253      0.800    -127.800     165.754\n",
            "x18            5.4845    215.111      0.025      0.980    -416.220     427.189\n",
            "x19         -702.9369     85.677     -8.204      0.000    -870.898    -534.975\n",
            "x20           62.9516     78.191      0.805      0.421     -90.334     216.237\n",
            "x21          120.1174    245.894      0.488      0.625    -361.933     602.168\n",
            "x22          105.3552     80.071      1.316      0.188     -51.616     262.327\n",
            "x23           19.1918     74.123      0.259      0.796    -126.118     164.502\n",
            "x24         -151.8107     72.957     -2.081      0.037    -294.836      -8.786\n",
            "x25            7.0106     78.528      0.089      0.929    -146.936     160.957\n",
            "x26           66.1717     79.296      0.834      0.404     -89.281     221.625\n",
            "x27           70.5529     78.821      0.895      0.371     -83.968     225.074\n",
            "x28           11.0212     92.639      0.119      0.905    -170.588     192.630\n",
            "x29           77.5316     78.333      0.990      0.322     -76.033     231.097\n",
            "x30           52.9674     90.285      0.587      0.557    -124.028     229.963\n",
            "x31          118.1287    246.124      0.480      0.631    -364.373     600.631\n",
            "x32          -31.4140     76.904     -0.408      0.683    -182.177     119.349\n",
            "x33           17.3326     79.864      0.217      0.828    -139.234     173.899\n",
            "x34           76.3053     91.831      0.831      0.406    -103.721     256.332\n",
            "x35           19.3235     91.737      0.211      0.833    -160.518     199.165\n",
            "x36           81.2699     80.520      1.009      0.313     -76.581     239.121\n",
            "x37          552.5388     81.578      6.773      0.000     392.614     712.464\n",
            "x38           -1.3035     82.733     -0.016      0.987    -163.494     160.887\n",
            "x39          283.5057     86.066      3.294      0.001     114.781     452.230\n",
            "x40          -41.3504     77.136     -0.536      0.592    -192.568     109.867\n",
            "x41           -0.5376     78.544     -0.007      0.995    -154.516     153.440\n",
            "x42          -68.8056     79.317     -0.867      0.386    -224.298      86.687\n",
            "x43           18.5393     76.253      0.243      0.808    -130.948     168.026\n",
            "x44          160.2970     78.654      2.038      0.042       6.103     314.491\n",
            "x45           36.3706     82.495      0.441      0.659    -125.352     198.093\n",
            "x46           32.2627     78.820      0.409      0.682    -122.256     186.781\n",
            "x47          -10.1061     75.752     -0.133      0.894    -158.610     138.398\n",
            "x48          -68.5846     82.137     -0.835      0.404    -229.606      92.437\n",
            "x49           26.3889     88.632      0.298      0.766    -147.365     200.143\n",
            "x50          860.6994     87.320      9.857      0.000     689.518    1031.881\n",
            "x51          218.8123     79.822      2.741      0.006      62.328     375.296\n",
            "x52           12.1791    107.269      0.114      0.910    -198.111     222.469\n",
            "x53          -14.0342     82.980     -0.169      0.866    -176.709     148.640\n",
            "x54           18.1286     77.655      0.233      0.815    -134.107     170.364\n",
            "x55           61.2716     85.168      0.719      0.472    -105.692     228.235\n",
            "x56          112.8181     82.456      1.368      0.171     -48.829     274.465\n",
            "x57           38.4328     88.474      0.434      0.664    -135.013     211.878\n",
            "x58           85.2245    246.396      0.346      0.729    -397.811     568.260\n",
            "x59           47.9635    101.060      0.475      0.635    -150.155     246.081\n",
            "x60           37.0434     76.046      0.487      0.626    -112.037     186.123\n",
            "x61            7.6192     76.010      0.100      0.920    -141.392     156.630\n",
            "x62         -436.3964     79.634     -5.480      0.000    -592.511    -280.281\n",
            "x63           14.5501    246.140      0.059      0.953    -467.983     497.083\n",
            "x64          -23.6724    102.399     -0.231      0.817    -224.415     177.070\n",
            "x65           25.2283     80.575      0.313      0.754    -132.731     183.187\n",
            "x66           72.4749     78.219      0.927      0.354     -80.866     225.816\n",
            "x67          -37.6191    110.893     -0.339      0.734    -255.015     179.777\n",
            "x68           50.8453     89.681      0.567      0.571    -124.965     226.656\n",
            "x69          -26.4795    194.102     -0.136      0.891    -406.997     354.038\n",
            "x70           -1.9941     76.443     -0.026      0.979    -151.854     147.866\n",
            "x71           -1.3916     75.227     -0.018      0.985    -148.866     146.083\n",
            "x72         -542.5269     95.515     -5.680      0.000    -729.774    -355.280\n",
            "x73          264.6719     80.427      3.291      0.001     107.002     422.342\n",
            "x74           27.8417     76.024      0.366      0.714    -121.197     176.880\n",
            "x75           27.1508     79.536      0.341      0.733    -128.772     183.074\n",
            "x76          -11.6073    110.206     -0.105      0.916    -227.655     204.441\n",
            "x77          459.0069     79.310      5.788      0.000     303.528     614.486\n",
            "x78           48.0458     76.566      0.628      0.530    -102.054     198.146\n",
            "x79         1131.9477     87.646     12.915      0.000     960.126    1303.769\n",
            "x80           66.0826    178.704      0.370      0.712    -284.250     416.415\n",
            "x81           19.4249     77.956      0.249      0.803    -133.400     172.250\n",
            "x82           34.2839     78.235      0.438      0.661    -119.088     187.656\n",
            "x83           78.5703    184.841      0.425      0.671    -283.793     440.933\n",
            "x84           86.1352     86.245      0.999      0.318     -82.939     255.209\n",
            "x85            8.1365     80.987      0.100      0.920    -150.630     166.903\n",
            "x86           31.6906     80.342      0.394      0.693    -125.812     189.194\n",
            "x87           25.3991     79.937      0.318      0.751    -131.309     182.107\n",
            "x88           67.7489     85.017      0.797      0.426     -98.918     234.416\n",
            "x89         -311.6813     82.092     -3.797      0.000    -472.616    -150.747\n",
            "x90          -18.4457     81.679     -0.226      0.821    -178.570     141.678\n",
            "x91          262.0279     92.539      2.832      0.005      80.614     443.441\n",
            "x92           22.6480     77.117      0.294      0.769    -128.533     173.829\n",
            "x93           76.8297     83.171      0.924      0.356     -86.219     239.878\n",
            "x94           65.8483     96.538      0.682      0.495    -123.404     255.101\n",
            "x95         -139.7277     77.971     -1.792      0.073    -292.583      13.128\n",
            "x96           41.9245     76.061      0.551      0.582    -107.185     191.034\n",
            "x97         -582.2025    106.626     -5.460      0.000    -791.233    -373.172\n",
            "x98          -14.3761     74.862     -0.192      0.848    -161.137     132.385\n",
            "x99          565.4487     79.155      7.144      0.000     410.273     720.625\n",
            "x100          40.4372    113.573      0.356      0.722    -182.212     263.086\n",
            "x101         -77.5169     83.677     -0.926      0.354    -241.558      86.524\n",
            "x102         331.2250    111.887      2.960      0.003     111.881     550.569\n",
            "x103          48.4596     79.832      0.607      0.544    -108.044     204.963\n",
            "x104         -61.8034     83.848     -0.737      0.461    -226.180     102.573\n",
            "x105           3.0018     48.291      0.062      0.950     -91.668      97.671\n",
            "x106         -10.9687     28.727     -0.382      0.703     -67.286      45.348\n",
            "x107          18.5170     62.872      0.295      0.768    -104.737     141.771\n",
            "x108         -10.2769     44.129     -0.233      0.816     -96.787      76.233\n",
            "x109         -15.7331     31.088     -0.506      0.613     -76.678      45.212\n",
            "x110          74.8082     23.497      3.184      0.001      28.745     120.872\n",
            "x111         121.6162     37.277      3.263      0.001      48.539     194.693\n",
            "x112        -142.5961     24.582     -5.801      0.000    -190.787     -94.405\n",
            "x113         169.2838     55.389      3.056      0.002      60.698     277.869\n",
            "x114         108.8549     64.254      1.694      0.090     -17.110     234.819\n",
            "x115         220.1486     11.226     19.611      0.000     198.142     242.156\n",
            "==============================================================================\n",
            "Omnibus:                     5843.300   Durbin-Watson:                   2.011\n",
            "Prob(Omnibus):                  0.000   Jarque-Bera (JB):           973211.883\n",
            "Skew:                           4.965   Prob(JB):                         0.00\n",
            "Kurtosis:                      67.275   Cond. No.                         165.\n",
            "==============================================================================\n",
            "\n",
            "Warnings:\n",
            "[1] Standard Errors assume that the covariance matrix of the errors is correctly specified.\n"
          ],
          "name": "stdout"
        }
      ]
    }
  ]
}