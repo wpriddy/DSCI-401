{
  "nbformat": 4,
  "nbformat_minor": 0,
  "metadata": {
    "colab": {
      "name": "testingknn.ipynb",
      "version": "0.3.2",
      "provenance": []
    },
    "kernelspec": {
      "name": "python3",
      "display_name": "Python 3"
    }
  },
  "cells": [
    {
      "metadata": {
        "id": "e7caFrs-E50a",
        "colab_type": "code",
        "colab": {}
      },
      "cell_type": "code",
      "source": [
        "from knn import *\n",
        "import pandas as pd\n",
        "from sklearn.model_selection import train_test_split\n",
        "from sklearn import preprocessing\n",
        "from sklearn.metrics import accuracy_score\n",
        "from sklearn.metrics import precision_score\n",
        "from sklearn.metrics import recall_score\n",
        "from sklearn.metrics import f1_score\n",
        "from scipy.spatial.distance import euclidean\n",
        "from sklearn.metrics import jaccard_similarity_score as j"
      ],
      "execution_count": 0,
      "outputs": []
    },
    {
      "metadata": {
        "id": "FY85BUYpAoCO",
        "colab_type": "text"
      },
      "cell_type": "markdown",
      "source": [
        "**Reads the data set, drops irrelevant variables, and begins to label encode the Y variable**"
      ]
    },
    {
      "metadata": {
        "id": "NxOeqh0H_bDW",
        "colab_type": "code",
        "colab": {
          "base_uri": "https://localhost:8080/",
          "height": 34
        },
        "outputId": "fbbce90f-b5a7-40c7-9d18-619155e7041f"
      },
      "cell_type": "code",
      "source": [
        "churn = pd.read_csv('churn_data.csv')\n",
        "churn = churn.drop(['CustID', 'FamilySize', 'Gender', 'Income'], axis=1)\n",
        "\n",
        "le = preprocessing.LabelEncoder()\n",
        "le.fit([0,1])\n",
        "\n",
        "\n"
      ],
      "execution_count": 35,
      "outputs": [
        {
          "output_type": "execute_result",
          "data": {
            "text/plain": [
              "LabelEncoder()"
            ]
          },
          "metadata": {
            "tags": []
          },
          "execution_count": 35
        }
      ]
    },
    {
      "metadata": {
        "id": "PEGeX2exvw-s",
        "colab_type": "text"
      },
      "cell_type": "markdown",
      "source": [
        "**Assigns the X variables and Y variables, label encodes the Y variable, and splits the dataset into training and testing data**"
      ]
    },
    {
      "metadata": {
        "id": "uduU7mcbGBlD",
        "colab_type": "code",
        "colab": {}
      },
      "cell_type": "code",
      "source": [
        "\n",
        "x = churn\n",
        "x = x.drop(['Churn'], axis=1)\n",
        "y = churn['Churn']\n",
        "y = le.fit_transform(y)\n",
        "\n",
        "x_train, x_test, y_train, y_test = train_test_split(x,y, test_size=0.5, random_state=4)\n"
      ],
      "execution_count": 0,
      "outputs": []
    },
    {
      "metadata": {
        "id": "-7EqwZ_nA-Sn",
        "colab_type": "text"
      },
      "cell_type": "markdown",
      "source": [
        "**Creates the model, fits it, and predicts it**"
      ]
    },
    {
      "metadata": {
        "id": "8gQw1ocrKgFV",
        "colab_type": "code",
        "colab": {
          "base_uri": "https://localhost:8080/",
          "height": 1154
        },
        "outputId": "993250ed-c627-4031-a3ea-64dd7e26db7b"
      },
      "cell_type": "code",
      "source": [
        "\n",
        "model = KNN(3, euclidean)\n",
        "\n",
        "model.fit(x_train, y_train)\n",
        "\n",
        "results = model.predict(x_test)\n",
        "\n"
      ],
      "execution_count": 37,
      "outputs": [
        {
          "output_type": "stream",
          "text": [
            "(9.486832980505138, 0)\n",
            "(9.539392014169456, 0)\n",
            "(39.97499218261337, 0)\n",
            "(26.70205984563738, 1)\n",
            "(2.6457513110645907, 1)\n",
            "(64.89992295835181, 1)\n",
            "(10.198039027185569, 1)\n",
            "(18.24828759089466, 1)\n",
            "(7.280109889280518, 0)\n",
            "(4.242640687119285, 1)\n",
            "(26.60826939130014, 1)\n",
            "(38.58756276314948, 0)\n",
            "(17.88854381999832, 1)\n",
            "(48.342527861087284, 0)\n",
            "(56.753854494650845, 0)\n",
            "(20.248456731316587, 0)\n",
            "(9.16515138991168, 0)\n",
            "(8.660254037844387, 0)\n",
            "(22.427661492005804, 1)\n",
            "(22.9128784747792, 1)\n",
            "(14.491376746189438, 1)\n",
            "(35.02855977627399, 1)\n",
            "(12.083045973594572, 1)\n",
            "(17.69180601295413, 0)\n",
            "(26.92582403567252, 0)\n",
            "(58.86425061104575, 1)\n",
            "(20.12461179749811, 0)\n",
            "(34.307433596816885, 0)\n",
            "(19.697715603592208, 1)\n",
            "(21.93171219946131, 0)\n",
            "(29.017236257093817, 0)\n",
            "(5.0, 1)\n",
            "(29.49576240750525, 0)\n",
            "(24.020824298928627, 1)\n",
            "(20.37154878746336, 0)\n",
            "(33.66006535941367, 1)\n",
            "(7.0, 0)\n",
            "(42.14261501141095, 0)\n",
            "(14.730919862656235, 1)\n",
            "(20.493901531919196, 1)\n",
            "(30.166206257996713, 1)\n",
            "(45.880278987817846, 1)\n",
            "(40.39801975344831, 0)\n",
            "(19.87460691435179, 1)\n",
            "(58.42088667591412, 1)\n",
            "(18.867962264113206, 0)\n",
            "(4.47213595499958, 1)\n",
            "(48.7134478352744, 1)\n",
            "(23.173260452512935, 1)\n",
            "(17.029386365926403, 1)\n",
            "(26.664583251946766, 1)\n",
            "(27.85677655436824, 1)\n",
            "(7.280109889280518, 1)\n",
            "(12.083045973594572, 1)\n",
            "(15.652475842498529, 1)\n",
            "(9.327379053088816, 1)\n",
            "(15.0, 0)\n",
            "(56.3382640840131, 0)\n",
            "(19.44222209522358, 1)\n",
            "(23.259406699226016, 0)\n",
            "(13.038404810405298, 0)\n",
            "(47.58150901348127, 1)\n",
            "(15.588457268119896, 1)\n",
            "(14.177446878757825, 1)\n"
          ],
          "name": "stdout"
        }
      ]
    },
    {
      "metadata": {
        "id": "7mK1KTfcBJQl",
        "colab_type": "text"
      },
      "cell_type": "markdown",
      "source": [
        "**Shows error metrics**"
      ]
    },
    {
      "metadata": {
        "id": "yr7sTmqCGwon",
        "colab_type": "code",
        "outputId": "cee61b2d-3653-470b-db4c-2649a770bb30",
        "colab": {
          "base_uri": "https://localhost:8080/",
          "height": 87
        }
      },
      "cell_type": "code",
      "source": [
        "\n",
        "print('Accuracy: ' + str(accuracy_score(y_test, results)))\n",
        "print('Precision: ' + str(precision_score(y_test, results)))\n",
        "print('Recall: ' + str(recall_score(y_test, results)))\n",
        "print('F1: ' + str(f1_score(y_test, results)))\n",
        "\n",
        "\n",
        "\n"
      ],
      "execution_count": 38,
      "outputs": [
        {
          "output_type": "stream",
          "text": [
            "Accuracy: 0.5625\n",
            "Precision: 0.5789473684210527\n",
            "Recall: 0.6470588235294118\n",
            "F1: 0.6111111111111113\n"
          ],
          "name": "stdout"
        }
      ]
    },
    {
      "metadata": {
        "id": "pc-_NWC6KosL",
        "colab_type": "text"
      },
      "cell_type": "markdown",
      "source": [
        "**Looks at the validation dataset**"
      ]
    },
    {
      "metadata": {
        "id": "fATC0OdsKZoY",
        "colab_type": "code",
        "colab": {
          "base_uri": "https://localhost:8080/",
          "height": 34
        },
        "outputId": "d2e55304-a893-413c-9245-496d054a3332"
      },
      "cell_type": "code",
      "source": [
        "val = pd.read_csv('churn_validation.csv')\n",
        "\n",
        "val = val.drop(['CustID', 'FamilySize', 'Gender', 'Income'], axis=1)\n",
        "\n",
        "le = preprocessing.LabelEncoder()\n",
        "le.fit([0,1])"
      ],
      "execution_count": 39,
      "outputs": [
        {
          "output_type": "execute_result",
          "data": {
            "text/plain": [
              "LabelEncoder()"
            ]
          },
          "metadata": {
            "tags": []
          },
          "execution_count": 39
        }
      ]
    },
    {
      "metadata": {
        "id": "EaAthmA7Kv4h",
        "colab_type": "code",
        "colab": {}
      },
      "cell_type": "code",
      "source": [
        "x1 = val\n",
        "x1 = x1.drop(['Churn'], axis=1)\n",
        "y1 = val['Churn']\n",
        "y1 = le.fit_transform(y1)\n",
        "\n",
        "x_train1, x_test1, y_train1, y_test1 = train_test_split(x1,y1, test_size=0.5, random_state=4)"
      ],
      "execution_count": 0,
      "outputs": []
    },
    {
      "metadata": {
        "id": "6PIUc7QCK9fe",
        "colab_type": "code",
        "colab": {
          "base_uri": "https://localhost:8080/",
          "height": 1154
        },
        "outputId": "571c3020-86a8-4ec3-f231-0c336fe591df"
      },
      "cell_type": "code",
      "source": [
        "model1 = KNN(3, euclidean)\n",
        "\n",
        "model1.fit(x_train, y_train)\n",
        "\n",
        "results1 = model1.predict(x_test)"
      ],
      "execution_count": 41,
      "outputs": [
        {
          "output_type": "stream",
          "text": [
            "(9.486832980505138, 0)\n",
            "(9.539392014169456, 0)\n",
            "(39.97499218261337, 0)\n",
            "(26.70205984563738, 1)\n",
            "(2.6457513110645907, 1)\n",
            "(64.89992295835181, 1)\n",
            "(10.198039027185569, 1)\n",
            "(18.24828759089466, 1)\n",
            "(7.280109889280518, 0)\n",
            "(4.242640687119285, 1)\n",
            "(26.60826939130014, 1)\n",
            "(38.58756276314948, 0)\n",
            "(17.88854381999832, 1)\n",
            "(48.342527861087284, 0)\n",
            "(56.753854494650845, 0)\n",
            "(20.248456731316587, 0)\n",
            "(9.16515138991168, 0)\n",
            "(8.660254037844387, 0)\n",
            "(22.427661492005804, 1)\n",
            "(22.9128784747792, 1)\n",
            "(14.491376746189438, 1)\n",
            "(35.02855977627399, 1)\n",
            "(12.083045973594572, 1)\n",
            "(17.69180601295413, 0)\n",
            "(26.92582403567252, 0)\n",
            "(58.86425061104575, 1)\n",
            "(20.12461179749811, 0)\n",
            "(34.307433596816885, 0)\n",
            "(19.697715603592208, 1)\n",
            "(21.93171219946131, 0)\n",
            "(29.017236257093817, 0)\n",
            "(5.0, 1)\n",
            "(29.49576240750525, 0)\n",
            "(24.020824298928627, 1)\n",
            "(20.37154878746336, 0)\n",
            "(33.66006535941367, 1)\n",
            "(7.0, 0)\n",
            "(42.14261501141095, 0)\n",
            "(14.730919862656235, 1)\n",
            "(20.493901531919196, 1)\n",
            "(30.166206257996713, 1)\n",
            "(45.880278987817846, 1)\n",
            "(40.39801975344831, 0)\n",
            "(19.87460691435179, 1)\n",
            "(58.42088667591412, 1)\n",
            "(18.867962264113206, 0)\n",
            "(4.47213595499958, 1)\n",
            "(48.7134478352744, 1)\n",
            "(23.173260452512935, 1)\n",
            "(17.029386365926403, 1)\n",
            "(26.664583251946766, 1)\n",
            "(27.85677655436824, 1)\n",
            "(7.280109889280518, 1)\n",
            "(12.083045973594572, 1)\n",
            "(15.652475842498529, 1)\n",
            "(9.327379053088816, 1)\n",
            "(15.0, 0)\n",
            "(56.3382640840131, 0)\n",
            "(19.44222209522358, 1)\n",
            "(23.259406699226016, 0)\n",
            "(13.038404810405298, 0)\n",
            "(47.58150901348127, 1)\n",
            "(15.588457268119896, 1)\n",
            "(14.177446878757825, 1)\n"
          ],
          "name": "stdout"
        }
      ]
    },
    {
      "metadata": {
        "id": "cKJMOV3ELHPX",
        "colab_type": "code",
        "colab": {
          "base_uri": "https://localhost:8080/",
          "height": 87
        },
        "outputId": "46cc7dc4-4829-4492-b167-f4115ee784d1"
      },
      "cell_type": "code",
      "source": [
        "print('Accuracy: ' + str(accuracy_score(y_test, results1)))\n",
        "print('Precision: ' + str(precision_score(y_test, results1)))\n",
        "print('Recall: ' + str(recall_score(y_test, results1)))\n",
        "print('F1: ' + str(f1_score(y_test, results1)))\n"
      ],
      "execution_count": 42,
      "outputs": [
        {
          "output_type": "stream",
          "text": [
            "Accuracy: 0.5625\n",
            "Precision: 0.5789473684210527\n",
            "Recall: 0.6470588235294118\n",
            "F1: 0.6111111111111113\n"
          ],
          "name": "stdout"
        }
      ]
    },
    {
      "metadata": {
        "id": "kKUzhSBnD4Zr",
        "colab_type": "text"
      },
      "cell_type": "markdown",
      "source": [
        "**Assignment 3 Write Up**"
      ]
    },
    {
      "metadata": {
        "id": "TQ-VJfOZD87Z",
        "colab_type": "text"
      },
      "cell_type": "markdown",
      "source": [
        "1) The response variable is whether or not a company has client turn over. It is predicted by age of the client, education of the client, the number of calls to that client, and the visits made to the client. Income, gender, customer ID and family size were omitted as predictor variables. Customer ID obviously does not accurately predict whether or not a client will stay. I did not see the validity of looking at gender either. Family size seemed to also be an irrelevant variable. Income, while having the possibility of being relevant, did not seem a great indicator since not enough was known about the business. We also do not know how elastic the good provided was or the level of available subtitutes. "
      ]
    },
    {
      "metadata": {
        "id": "e6Pvu7lOFMPf",
        "colab_type": "text"
      },
      "cell_type": "markdown",
      "source": [
        "2) In order for KNN to work on this data set, the response variable (customer turnover) needed to be label encoded where 0 indicated no customer turnover and 1 indicated customer turnover.\n"
      ]
    },
    {
      "metadata": {
        "id": "adCM0hF_FwYm",
        "colab_type": "text"
      },
      "cell_type": "markdown",
      "source": [
        "3) KNN was used to build a model to predict customer turnover. Euclidean and Jaccard similarity score were used as different distance metrics. They had the same effect on the model. Different K's were also used but the error metrics stayed the same. Even when adding the seemingly irrelevant variables, the error metrics did not change. "
      ]
    },
    {
      "metadata": {
        "id": "VjZ-YQ-OHdC9",
        "colab_type": "text"
      },
      "cell_type": "markdown",
      "source": [
        "4) The error metrics used were accuracy, precision,  recall, and F1.. The accuracy metric computes the subset accuracy of the set of labels that exactly matches the corresponding response variables. The precision score is the percent of true positives compared to the number of false positives. Recall then looks at the ratio of true positives divided by the number of true positives and false negatives. F1 is then the weighted average of the precision and recall error metrics.  "
      ]
    },
    {
      "metadata": {
        "id": "vX23NEPAJ8Jg",
        "colab_type": "text"
      },
      "cell_type": "markdown",
      "source": [
        "5) The model oddly had the same error metrics despite changing the number of predictor variables.The predictors used in the final model were Age, Education, Calls, and Visits. "
      ]
    },
    {
      "metadata": {
        "id": "Kl6cL12CLRao",
        "colab_type": "text"
      },
      "cell_type": "markdown",
      "source": [
        "6) The error rates I got for the validation dataset where the same as the actual dataset. This must not be a best model for predicting. "
      ]
    },
    {
      "metadata": {
        "id": "rzC9HF6JLfSL",
        "colab_type": "text"
      },
      "cell_type": "markdown",
      "source": [
        "7) Based on the accuracy and precision alone (0.56 and 0.57 respectively), this is not the greatest model for predicting whether or not a customer will leave a company. The lack of variation across specifications leaves me to question the validity of the model."
      ]
    }
  ]
}